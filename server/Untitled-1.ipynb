{
 "cells": [
  {
   "cell_type": "code",
   "execution_count": null,
   "id": "ec4344a4",
   "metadata": {},
   "outputs": [],
   "source": [
    "from lightfm import LightFM\n",
    "from lightfm.datasets import fetch_movielens\n",
    "import numpy as np\n",
    "\n",
    "# Fetch the Movielens 100k dataset\n",
    "data = fetch_movielens(min_rating=4.0)\n",
    "\n",
    "# Instantiate the model (warp loss)\n",
    "model = LightFM(loss='warp')\n",
    "\n",
    "# Fit the model\n",
    "model.fit(data['train'], epochs=10, num_threads=2)\n",
    "\n",
    "# Predict scores for the first user and all items\n",
    "scores = model.predict(0, np.arange(data['train'].shape[1]))\n",
    "\n",
    "# Recommend top 5 items\n",
    "top_items = np.argsort(-scores)[:5]\n",
    "\n",
    "print(\"Top 5 recommendations for user 0:\")\n",
    "for item in top_items:\n",
    "\tprint(f\"Item {item}\")"
   ]
  }
 ],
 "metadata": {
  "kernelspec": {
   "display_name": "Python 3",
   "language": "python",
   "name": "python3"
  },
  "language_info": {
   "name": "python",
   "version": "3.12.3"
  }
 },
 "nbformat": 4,
 "nbformat_minor": 5
}
